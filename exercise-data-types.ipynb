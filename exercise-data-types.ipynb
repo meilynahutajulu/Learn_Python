{
 "cells": [
  {
   "cell_type": "markdown",
   "id": "e84467e9",
   "metadata": {
    "papermill": {
     "duration": 0.005747,
     "end_time": "2023-06-06T12:00:16.632848",
     "exception": false,
     "start_time": "2023-06-06T12:00:16.627101",
     "status": "completed"
    },
    "tags": []
   },
   "source": [
    "**This notebook is an exercise in the [Intro to Programming](https://www.kaggle.com/learn/intro-to-programming) course.  You can reference the tutorial at [this link](https://www.kaggle.com/alexisbcook/data-types).**\n",
    "\n",
    "---\n"
   ]
  },
  {
   "cell_type": "markdown",
   "id": "0f98007e",
   "metadata": {
    "papermill": {
     "duration": 0.004902,
     "end_time": "2023-06-06T12:00:16.642943",
     "exception": false,
     "start_time": "2023-06-06T12:00:16.638041",
     "status": "completed"
    },
    "tags": []
   },
   "source": [
    "In the tutorial, you learned about four different data types: floats, integers, strings, and booleans.  In this exercise, you'll experiment with them.\n",
    "\n",
    "# Set up the notebook\n",
    "\n",
    "Run the next code cell without changes to set up the notebook."
   ]
  },
  {
   "cell_type": "code",
   "execution_count": 1,
   "id": "9b7adeda",
   "metadata": {
    "execution": {
     "iopub.execute_input": "2023-06-06T12:00:16.655336Z",
     "iopub.status.busy": "2023-06-06T12:00:16.654668Z",
     "iopub.status.idle": "2023-06-06T12:00:16.706772Z",
     "shell.execute_reply": "2023-06-06T12:00:16.705533Z"
    },
    "papermill": {
     "duration": 0.062174,
     "end_time": "2023-06-06T12:00:16.710163",
     "exception": false,
     "start_time": "2023-06-06T12:00:16.647989",
     "status": "completed"
    },
    "tags": []
   },
   "outputs": [
    {
     "name": "stdout",
     "output_type": "stream",
     "text": [
      "Setup complete.\n"
     ]
    }
   ],
   "source": [
    "# Set up the exercise\n",
    "from learntools.core import binder\n",
    "binder.bind(globals())\n",
    "from learntools.intro_to_programming.ex3 import *\n",
    "print('Setup complete.')"
   ]
  },
  {
   "cell_type": "markdown",
   "id": "665fb517",
   "metadata": {
    "papermill": {
     "duration": 0.004936,
     "end_time": "2023-06-06T12:00:16.720775",
     "exception": false,
     "start_time": "2023-06-06T12:00:16.715839",
     "status": "completed"
    },
    "tags": []
   },
   "source": [
    "# Question 1\n",
    "\n",
    "You have seen how to convert a float to an integer with the `int` function.  Try this out yourself by running the code cell below."
   ]
  },
  {
   "cell_type": "code",
   "execution_count": 2,
   "id": "d526850f",
   "metadata": {
    "execution": {
     "iopub.execute_input": "2023-06-06T12:00:16.734601Z",
     "iopub.status.busy": "2023-06-06T12:00:16.733983Z",
     "iopub.status.idle": "2023-06-06T12:00:16.739926Z",
     "shell.execute_reply": "2023-06-06T12:00:16.738744Z"
    },
    "papermill": {
     "duration": 0.016473,
     "end_time": "2023-06-06T12:00:16.742289",
     "exception": false,
     "start_time": "2023-06-06T12:00:16.725816",
     "status": "completed"
    },
    "tags": []
   },
   "outputs": [
    {
     "name": "stdout",
     "output_type": "stream",
     "text": [
      "1.0\n",
      "<class 'float'>\n",
      "1\n",
      "<class 'int'>\n"
     ]
    }
   ],
   "source": [
    "# Define a float\n",
    "y = 1.\n",
    "print(y)\n",
    "print(type(y))\n",
    "\n",
    "# Convert float to integer with the int function\n",
    "z = int(y)\n",
    "print(z)\n",
    "print(type(z))"
   ]
  },
  {
   "cell_type": "markdown",
   "id": "773b95d7",
   "metadata": {
    "papermill": {
     "duration": 0.005894,
     "end_time": "2023-06-06T12:00:16.755167",
     "exception": false,
     "start_time": "2023-06-06T12:00:16.749273",
     "status": "completed"
    },
    "tags": []
   },
   "source": [
    "In this case, the float you are using has no numbers after the decimal.  \n",
    "- But what happens when you try to convert a float with a fractional part to an integer?  \n",
    "- How does the outcome of the `int` function change for positive and negative numbers?\n",
    "\n",
    "Use the next code cell to investigate and answer these questions.  Feel free to add or remove any lines of code -- it is your workspace!"
   ]
  },
  {
   "cell_type": "code",
   "execution_count": 3,
   "id": "41183701",
   "metadata": {
    "execution": {
     "iopub.execute_input": "2023-06-06T12:00:16.768323Z",
     "iopub.status.busy": "2023-06-06T12:00:16.767369Z",
     "iopub.status.idle": "2023-06-06T12:00:16.773196Z",
     "shell.execute_reply": "2023-06-06T12:00:16.772270Z"
    },
    "papermill": {
     "duration": 0.014137,
     "end_time": "2023-06-06T12:00:16.774862",
     "exception": false,
     "start_time": "2023-06-06T12:00:16.760725",
     "status": "completed"
    },
    "tags": []
   },
   "outputs": [
    {
     "name": "stdout",
     "output_type": "stream",
     "text": [
      "1\n",
      "1\n",
      "-3\n",
      "-2\n"
     ]
    }
   ],
   "source": [
    "# Uncomment and run this code to get started!\n",
    "print(int(1.2321))\n",
    "print(int(1.747))\n",
    "print(int(-3.94535))\n",
    "print(int(-2.19774))"
   ]
  },
  {
   "cell_type": "markdown",
   "id": "64678dd5",
   "metadata": {
    "papermill": {
     "duration": 0.00519,
     "end_time": "2023-06-06T12:00:16.785676",
     "exception": false,
     "start_time": "2023-06-06T12:00:16.780486",
     "status": "completed"
    },
    "tags": []
   },
   "source": [
    "Once you have an answer, run the code cell below to see the solution.  Viewing the solution will give you credit for answering the problem."
   ]
  },
  {
   "cell_type": "code",
   "execution_count": 4,
   "id": "601ef023",
   "metadata": {
    "execution": {
     "iopub.execute_input": "2023-06-06T12:00:16.799502Z",
     "iopub.status.busy": "2023-06-06T12:00:16.799146Z",
     "iopub.status.idle": "2023-06-06T12:00:16.809826Z",
     "shell.execute_reply": "2023-06-06T12:00:16.808481Z"
    },
    "papermill": {
     "duration": 0.019937,
     "end_time": "2023-06-06T12:00:16.812110",
     "exception": false,
     "start_time": "2023-06-06T12:00:16.792173",
     "status": "completed"
    },
    "tags": []
   },
   "outputs": [
    {
     "data": {
      "application/javascript": [
       "parent.postMessage({\"jupyterEvent\": \"custom.exercise_interaction\", \"data\": {\"outcomeType\": 1, \"valueTowardsCompletion\": 0.2, \"interactionType\": 1, \"questionType\": 4, \"questionId\": \"1_FloatToInt\", \"learnToolsVersion\": \"0.3.4\", \"failureMessage\": \"\", \"exceptionClass\": \"\", \"trace\": \"\"}}, \"*\")"
      ],
      "text/plain": [
       "<IPython.core.display.Javascript object>"
      ]
     },
     "metadata": {},
     "output_type": "display_data"
    },
    {
     "data": {
      "text/markdown": [
       "<span style=\"color:#33cc33\">Correct:</span> \n",
       "\n",
       "Negative floats are always rounded UP to the closest integer (for instance, both -1.1 and -1.9 are rounded up to -1). Positive floats are always rounded DOWN to the closest integer (for instance, 2.1 and 2.9 are rounded down to 2)."
      ],
      "text/plain": [
       "Correct: \n",
       "\n",
       "Negative floats are always rounded UP to the closest integer (for instance, both -1.1 and -1.9 are rounded up to -1). Positive floats are always rounded DOWN to the closest integer (for instance, 2.1 and 2.9 are rounded down to 2)."
      ]
     },
     "metadata": {},
     "output_type": "display_data"
    }
   ],
   "source": [
    "# Check your answer (Run this code cell to receive credit!)\n",
    "q1.check()"
   ]
  },
  {
   "cell_type": "markdown",
   "id": "35366e1e",
   "metadata": {
    "papermill": {
     "duration": 0.005502,
     "end_time": "2023-06-06T12:00:16.824296",
     "exception": false,
     "start_time": "2023-06-06T12:00:16.818794",
     "status": "completed"
    },
    "tags": []
   },
   "source": [
    "# Question 2\n",
    "\n",
    "In the tutorial, you learned about booleans (which can take a value of `True` or `False`), in addition to integers, floats, and strings.  For this question, your goal is to determine what happens when you multiply a boolean by any of these data types.  Specifically, \n",
    "- What happens when you multiply an integer or float by `True`?  What happens when you multiply them by `False`?  How does the answer change if the numbers are positive or negative?\n",
    "- What happens when you multiply a string by `True`?  By `False`?\n",
    "\n",
    "Use the next code cell for your investigation. "
   ]
  },
  {
   "cell_type": "code",
   "execution_count": 5,
   "id": "39c28e73",
   "metadata": {
    "execution": {
     "iopub.execute_input": "2023-06-06T12:00:16.837579Z",
     "iopub.status.busy": "2023-06-06T12:00:16.836769Z",
     "iopub.status.idle": "2023-06-06T12:00:16.841981Z",
     "shell.execute_reply": "2023-06-06T12:00:16.841262Z"
    },
    "papermill": {
     "duration": 0.013689,
     "end_time": "2023-06-06T12:00:16.843636",
     "exception": false,
     "start_time": "2023-06-06T12:00:16.829947",
     "status": "completed"
    },
    "tags": []
   },
   "outputs": [
    {
     "name": "stdout",
     "output_type": "stream",
     "text": [
      "3\n",
      "-3.1\n",
      "<class 'str'>\n",
      "0\n"
     ]
    }
   ],
   "source": [
    "# Uncomment and run this code to get started!\n",
    "print(3 * True)\n",
    "print(-3.1 * True)\n",
    "print(type(\"abc\" * False))\n",
    "print(len(\"abc\" * False))"
   ]
  },
  {
   "cell_type": "markdown",
   "id": "f18a11a3",
   "metadata": {
    "papermill": {
     "duration": 0.005792,
     "end_time": "2023-06-06T12:00:16.855360",
     "exception": false,
     "start_time": "2023-06-06T12:00:16.849568",
     "status": "completed"
    },
    "tags": []
   },
   "source": [
    "Once you have an answer, run the code cell below to see the solution.  Viewing the solution will give you credit for answering the problem."
   ]
  },
  {
   "cell_type": "code",
   "execution_count": 6,
   "id": "e9ce4f22",
   "metadata": {
    "execution": {
     "iopub.execute_input": "2023-06-06T12:00:16.868447Z",
     "iopub.status.busy": "2023-06-06T12:00:16.868092Z",
     "iopub.status.idle": "2023-06-06T12:00:16.875408Z",
     "shell.execute_reply": "2023-06-06T12:00:16.873945Z"
    },
    "papermill": {
     "duration": 0.017446,
     "end_time": "2023-06-06T12:00:16.878529",
     "exception": false,
     "start_time": "2023-06-06T12:00:16.861083",
     "status": "completed"
    },
    "tags": []
   },
   "outputs": [
    {
     "data": {
      "application/javascript": [
       "parent.postMessage({\"jupyterEvent\": \"custom.exercise_interaction\", \"data\": {\"outcomeType\": 1, \"valueTowardsCompletion\": 0.2, \"interactionType\": 1, \"questionType\": 4, \"questionId\": \"2_MultiplyBooleans\", \"learnToolsVersion\": \"0.3.4\", \"failureMessage\": \"\", \"exceptionClass\": \"\", \"trace\": \"\"}}, \"*\")"
      ],
      "text/plain": [
       "<IPython.core.display.Javascript object>"
      ]
     },
     "metadata": {},
     "output_type": "display_data"
    },
    {
     "data": {
      "text/markdown": [
       "<span style=\"color:#33cc33\">Correct:</span> \n",
       "\n",
       "When you multiple an integer or float by a boolean with value `True`, it just returns that same integer or float (and is equivalent to multiplying by 1).  If you multiply an integer or float by a boolean with value `False`, it always returns 0.  This is true for both positive and negative numbers.  If you multiply a string by a boolean with value `True`, it just returns that same string.  And if you multiply a string by a boolean with value `False`, it returns an empty string (or a string with length zero)."
      ],
      "text/plain": [
       "Correct: \n",
       "\n",
       "When you multiple an integer or float by a boolean with value `True`, it just returns that same integer or float (and is equivalent to multiplying by 1).  If you multiply an integer or float by a boolean with value `False`, it always returns 0.  This is true for both positive and negative numbers.  If you multiply a string by a boolean with value `True`, it just returns that same string.  And if you multiply a string by a boolean with value `False`, it returns an empty string (or a string with length zero)."
      ]
     },
     "metadata": {},
     "output_type": "display_data"
    }
   ],
   "source": [
    "# Check your answer (Run this code cell to receive credit!)\n",
    "q2.check()"
   ]
  },
  {
   "cell_type": "markdown",
   "id": "3d493832",
   "metadata": {
    "papermill": {
     "duration": 0.006671,
     "end_time": "2023-06-06T12:00:16.891657",
     "exception": false,
     "start_time": "2023-06-06T12:00:16.884986",
     "status": "completed"
    },
    "tags": []
   },
   "source": [
    "# Question 3\n",
    "\n",
    "In this question, you will build off your work from the previous exercise to write a function that estimates the value of a house.\n",
    "\n",
    "Use the next code cell to create a function `get_expected_cost` that takes as input three variables:\n",
    "- `beds` - number of bedrooms (data type float)\n",
    "- `baths` - number of bathrooms (data type float)\n",
    "- `has_basement` - whether or not the house has a basement (data type boolean)\n",
    "\n",
    "It should return the expected cost of a house with those characteristics. Assume that:\n",
    "- the expected cost for a house with 0 bedrooms and 0 bathrooms, and no basement is 80000, \n",
    "- each bedroom adds 30000 to the expected cost,\n",
    "- each bathroom adds 10000 to the expected cost, and\n",
    "- a basement adds 40000 to the expected cost.\n",
    "\n",
    "For instance,\n",
    "- a house with 1 bedroom, 1 bathroom, and no basement has an expected cost of 80000 + 30000 + 10000 = 120000.  This value will be calculated with `get_expected_cost(1, 1, False)`.\n",
    "- a house with 2 bedrooms, 1 bathroom, and a basement has an expected cost of 80000 + 2*30000 + 10000 + 40000 = 190000.  This value will be calculated with `get_expected_cost(2, 1, True)`.\n",
    "\n",
    "Remember you can always get a hint by uncommenting `q3.hint()` in the code cell following the next!"
   ]
  },
  {
   "cell_type": "code",
   "execution_count": 7,
   "id": "85c7ca52",
   "metadata": {
    "execution": {
     "iopub.execute_input": "2023-06-06T12:00:16.906374Z",
     "iopub.status.busy": "2023-06-06T12:00:16.906027Z",
     "iopub.status.idle": "2023-06-06T12:00:16.913711Z",
     "shell.execute_reply": "2023-06-06T12:00:16.912975Z"
    },
    "papermill": {
     "duration": 0.017766,
     "end_time": "2023-06-06T12:00:16.916008",
     "exception": false,
     "start_time": "2023-06-06T12:00:16.898242",
     "status": "completed"
    },
    "tags": []
   },
   "outputs": [
    {
     "data": {
      "application/javascript": [
       "parent.postMessage({\"jupyterEvent\": \"custom.exercise_interaction\", \"data\": {\"outcomeType\": 1, \"valueTowardsCompletion\": 0.2, \"interactionType\": 1, \"questionType\": 2, \"questionId\": \"3_EstimateHouseValueBool\", \"learnToolsVersion\": \"0.3.4\", \"failureMessage\": \"\", \"exceptionClass\": \"\", \"trace\": \"\"}}, \"*\")"
      ],
      "text/plain": [
       "<IPython.core.display.Javascript object>"
      ]
     },
     "metadata": {},
     "output_type": "display_data"
    },
    {
     "data": {
      "text/markdown": [
       "<span style=\"color:#33cc33\">Correct</span>"
      ],
      "text/plain": [
       "Correct"
      ]
     },
     "metadata": {},
     "output_type": "display_data"
    }
   ],
   "source": [
    "# TODO: Complete the function\n",
    "def get_expected_cost(beds, baths, has_basement):\n",
    "    value = 80000 + (beds*30000) + (baths*10000) + (40000*has_basement)\n",
    "    return value\n",
    "\n",
    "# Check your answer \n",
    "q3.check()"
   ]
  },
  {
   "cell_type": "code",
   "execution_count": 8,
   "id": "e5d237e0",
   "metadata": {
    "execution": {
     "iopub.execute_input": "2023-06-06T12:00:16.931485Z",
     "iopub.status.busy": "2023-06-06T12:00:16.930798Z",
     "iopub.status.idle": "2023-06-06T12:00:16.935397Z",
     "shell.execute_reply": "2023-06-06T12:00:16.934234Z"
    },
    "papermill": {
     "duration": 0.014953,
     "end_time": "2023-06-06T12:00:16.937748",
     "exception": false,
     "start_time": "2023-06-06T12:00:16.922795",
     "status": "completed"
    },
    "tags": []
   },
   "outputs": [],
   "source": [
    "# Uncomment to see a hint\n",
    "#q3.hint()\n",
    "\n",
    "# Uncomment to view the solution\n",
    "#q3.solution()"
   ]
  },
  {
   "cell_type": "markdown",
   "id": "3ae5044c",
   "metadata": {
    "papermill": {
     "duration": 0.005833,
     "end_time": "2023-06-06T12:00:16.950097",
     "exception": false,
     "start_time": "2023-06-06T12:00:16.944264",
     "status": "completed"
    },
    "tags": []
   },
   "source": [
    "# Question 4\n",
    "\n",
    "We'll continue our study of boolean arithmetic.  For this question, your task is to provide a description of what happpens when you add booleans. \n",
    "\n",
    "Use the next code cell for your investigation.  Feel free to add or remove any lines of code - use it as your workspace!"
   ]
  },
  {
   "cell_type": "code",
   "execution_count": 9,
   "id": "313b93fe",
   "metadata": {
    "execution": {
     "iopub.execute_input": "2023-06-06T12:00:16.964638Z",
     "iopub.status.busy": "2023-06-06T12:00:16.964289Z",
     "iopub.status.idle": "2023-06-06T12:00:16.969629Z",
     "shell.execute_reply": "2023-06-06T12:00:16.968510Z"
    },
    "papermill": {
     "duration": 0.015049,
     "end_time": "2023-06-06T12:00:16.971637",
     "exception": false,
     "start_time": "2023-06-06T12:00:16.956588",
     "status": "completed"
    },
    "tags": []
   },
   "outputs": [
    {
     "name": "stdout",
     "output_type": "stream",
     "text": [
      "0\n",
      "1\n",
      "1\n",
      "2\n",
      "3\n"
     ]
    }
   ],
   "source": [
    "print(False + False)\n",
    "print(True + False)\n",
    "print(False + True)\n",
    "print(True + True)\n",
    "print(False + True + True + True)"
   ]
  },
  {
   "cell_type": "markdown",
   "id": "ac9099b2",
   "metadata": {
    "papermill": {
     "duration": 0.006198,
     "end_time": "2023-06-06T12:00:16.984727",
     "exception": false,
     "start_time": "2023-06-06T12:00:16.978529",
     "status": "completed"
    },
    "tags": []
   },
   "source": [
    "Once you have an answer, run the code cell below to see the solution.  Viewing the solution will give you credit for answering the problem."
   ]
  },
  {
   "cell_type": "code",
   "execution_count": 10,
   "id": "ed3a9a8d",
   "metadata": {
    "execution": {
     "iopub.execute_input": "2023-06-06T12:00:17.001041Z",
     "iopub.status.busy": "2023-06-06T12:00:16.999734Z",
     "iopub.status.idle": "2023-06-06T12:00:17.009840Z",
     "shell.execute_reply": "2023-06-06T12:00:17.008283Z"
    },
    "papermill": {
     "duration": 0.020872,
     "end_time": "2023-06-06T12:00:17.012251",
     "exception": false,
     "start_time": "2023-06-06T12:00:16.991379",
     "status": "completed"
    },
    "tags": []
   },
   "outputs": [
    {
     "data": {
      "application/javascript": [
       "parent.postMessage({\"jupyterEvent\": \"custom.exercise_interaction\", \"data\": {\"outcomeType\": 1, \"valueTowardsCompletion\": 0.2, \"interactionType\": 1, \"questionType\": 4, \"questionId\": \"4_AddingBooleans\", \"learnToolsVersion\": \"0.3.4\", \"failureMessage\": \"\", \"exceptionClass\": \"\", \"trace\": \"\"}}, \"*\")"
      ],
      "text/plain": [
       "<IPython.core.display.Javascript object>"
      ]
     },
     "metadata": {},
     "output_type": "display_data"
    },
    {
     "data": {
      "text/markdown": [
       "<span style=\"color:#33cc33\">Correct:</span> \n",
       "\n",
       "When you add booleans, adding `False` is equivalent to adding 0, and adding `True` is equivalent to adding 1."
      ],
      "text/plain": [
       "Correct: \n",
       "\n",
       "When you add booleans, adding `False` is equivalent to adding 0, and adding `True` is equivalent to adding 1."
      ]
     },
     "metadata": {},
     "output_type": "display_data"
    }
   ],
   "source": [
    "# Check your answer (Run this code cell to receive credit!)\n",
    "q4.check()"
   ]
  },
  {
   "cell_type": "markdown",
   "id": "fec72967",
   "metadata": {
    "papermill": {
     "duration": 0.006466,
     "end_time": "2023-06-06T12:00:17.025616",
     "exception": false,
     "start_time": "2023-06-06T12:00:17.019150",
     "status": "completed"
    },
    "tags": []
   },
   "source": [
    "# 🌶️ Question 5\n",
    "\n",
    "You own an online shop where you sell rings with custom engravings.  You offer both gold plated and solid gold rings.\n",
    "- Gold plated rings have a base cost of \\\\$50, and you charge \\\\$7 per engraved unit.  \n",
    "- Solid gold rings have a base cost of \\\\$100, and you charge \\\\$10 per engraved unit.\n",
    "- Spaces and punctuation are counted as engraved units.\n",
    "\n",
    "Write a function `cost_of_project()` that takes two arguments:\n",
    "- `engraving` - a Python string with the text of the engraving\n",
    "- `solid_gold` - a Boolean that indicates whether the ring is solid gold\n",
    "\n",
    "It should return the cost of the project.  This question should be fairly challenging, and you may need a hint."
   ]
  },
  {
   "cell_type": "code",
   "execution_count": 11,
   "id": "4212dcc5",
   "metadata": {
    "execution": {
     "iopub.execute_input": "2023-06-06T12:00:17.041006Z",
     "iopub.status.busy": "2023-06-06T12:00:17.040599Z",
     "iopub.status.idle": "2023-06-06T12:00:17.051299Z",
     "shell.execute_reply": "2023-06-06T12:00:17.050286Z"
    },
    "papermill": {
     "duration": 0.021712,
     "end_time": "2023-06-06T12:00:17.054109",
     "exception": false,
     "start_time": "2023-06-06T12:00:17.032397",
     "status": "completed"
    },
    "tags": []
   },
   "outputs": [
    {
     "data": {
      "application/javascript": [
       "parent.postMessage({\"jupyterEvent\": \"custom.exercise_interaction\", \"data\": {\"outcomeType\": 1, \"valueTowardsCompletion\": 0.2, \"interactionType\": 1, \"questionType\": 2, \"questionId\": \"5_CustomEngravings\", \"learnToolsVersion\": \"0.3.4\", \"failureMessage\": \"\", \"exceptionClass\": \"\", \"trace\": \"\"}}, \"*\")"
      ],
      "text/plain": [
       "<IPython.core.display.Javascript object>"
      ]
     },
     "metadata": {},
     "output_type": "display_data"
    },
    {
     "data": {
      "text/markdown": [
       "<span style=\"color:#33cc33\">Correct</span>"
      ],
      "text/plain": [
       "Correct"
      ]
     },
     "metadata": {},
     "output_type": "display_data"
    }
   ],
   "source": [
    "def cost_of_project(engraving, solid_gold):\n",
    "    cost = (solid_gold) *(100 + len(engraving)*10) + (not solid_gold) * (50+ len(engraving)*7)\n",
    "    return cost\n",
    "\n",
    "# Check your answer\n",
    "q5.check()"
   ]
  },
  {
   "cell_type": "code",
   "execution_count": 12,
   "id": "24135b5f",
   "metadata": {
    "execution": {
     "iopub.execute_input": "2023-06-06T12:00:17.071998Z",
     "iopub.status.busy": "2023-06-06T12:00:17.071367Z",
     "iopub.status.idle": "2023-06-06T12:00:17.082001Z",
     "shell.execute_reply": "2023-06-06T12:00:17.081177Z"
    },
    "papermill": {
     "duration": 0.020775,
     "end_time": "2023-06-06T12:00:17.083726",
     "exception": false,
     "start_time": "2023-06-06T12:00:17.062951",
     "status": "completed"
    },
    "tags": []
   },
   "outputs": [
    {
     "data": {
      "application/javascript": [
       "parent.postMessage({\"jupyterEvent\": \"custom.exercise_interaction\", \"data\": {\"interactionType\": 2, \"questionType\": 2, \"questionId\": \"5_CustomEngravings\", \"learnToolsVersion\": \"0.3.4\", \"valueTowardsCompletion\": 0.0, \"failureMessage\": \"\", \"exceptionClass\": \"\", \"trace\": \"\", \"outcomeType\": 4}}, \"*\")"
      ],
      "text/plain": [
       "<IPython.core.display.Javascript object>"
      ]
     },
     "metadata": {},
     "output_type": "display_data"
    },
    {
     "data": {
      "text/markdown": [
       "<span style=\"color:#3366cc\">Hint:</span> There are two options - either the project uses solid gold or does not.  With this in mind, you can structure your solution like this: `cost = solid_gold * ____ + (not solid_gold) * ____`.  You need to figure out how to fill in the blanks. Also, remember that:\n",
       "- If `solid_gold = True`, then `(not solid_gold) = False`, and if `solid_gold = False`, then `(not solid_gold) = True`.\n",
       "- Multiplying an integer by `True` is equivalent to multiplying it by 1, and multiplying an integer by `False` is equivalent to multiplying it by 0."
      ],
      "text/plain": [
       "Hint: There are two options - either the project uses solid gold or does not.  With this in mind, you can structure your solution like this: `cost = solid_gold * ____ + (not solid_gold) * ____`.  You need to figure out how to fill in the blanks. Also, remember that:\n",
       "- If `solid_gold = True`, then `(not solid_gold) = False`, and if `solid_gold = False`, then `(not solid_gold) = True`.\n",
       "- Multiplying an integer by `True` is equivalent to multiplying it by 1, and multiplying an integer by `False` is equivalent to multiplying it by 0."
      ]
     },
     "metadata": {},
     "output_type": "display_data"
    },
    {
     "data": {
      "application/javascript": [
       "parent.postMessage({\"jupyterEvent\": \"custom.exercise_interaction\", \"data\": {\"interactionType\": 3, \"questionType\": 2, \"questionId\": \"5_CustomEngravings\", \"learnToolsVersion\": \"0.3.4\", \"valueTowardsCompletion\": 0.0, \"failureMessage\": \"\", \"exceptionClass\": \"\", \"trace\": \"\", \"outcomeType\": 4}}, \"*\")"
      ],
      "text/plain": [
       "<IPython.core.display.Javascript object>"
      ]
     },
     "metadata": {},
     "output_type": "display_data"
    },
    {
     "data": {
      "text/markdown": [
       "<span style=\"color:#33cc99\">Solution:</span> \n",
       "```python\n",
       "def cost_of_project(engraving, solid_gold):\n",
       "    cost = solid_gold * (100 + 10 * len(engraving)) + (not solid_gold) * (50 + 7 * len(engraving))\n",
       "    return cost\n",
       "\n",
       "```"
      ],
      "text/plain": [
       "Solution: \n",
       "```python\n",
       "def cost_of_project(engraving, solid_gold):\n",
       "    cost = solid_gold * (100 + 10 * len(engraving)) + (not solid_gold) * (50 + 7 * len(engraving))\n",
       "    return cost\n",
       "\n",
       "```"
      ]
     },
     "metadata": {},
     "output_type": "display_data"
    }
   ],
   "source": [
    "# Uncomment to see a hint\n",
    "q5.hint()\n",
    "\n",
    "# Uncomment to view the solution\n",
    "q5.solution()"
   ]
  },
  {
   "cell_type": "markdown",
   "id": "8ac8f0c6",
   "metadata": {
    "papermill": {
     "duration": 0.007266,
     "end_time": "2023-06-06T12:00:17.098768",
     "exception": false,
     "start_time": "2023-06-06T12:00:17.091502",
     "status": "completed"
    },
    "tags": []
   },
   "source": [
    "Run the next code cell to calculate the cost of engraving `Charlie+Denver` on a solid gold ring."
   ]
  },
  {
   "cell_type": "code",
   "execution_count": 13,
   "id": "c02e7af0",
   "metadata": {
    "execution": {
     "iopub.execute_input": "2023-06-06T12:00:17.115464Z",
     "iopub.status.busy": "2023-06-06T12:00:17.114427Z",
     "iopub.status.idle": "2023-06-06T12:00:17.120201Z",
     "shell.execute_reply": "2023-06-06T12:00:17.118775Z"
    },
    "papermill": {
     "duration": 0.016869,
     "end_time": "2023-06-06T12:00:17.122936",
     "exception": false,
     "start_time": "2023-06-06T12:00:17.106067",
     "status": "completed"
    },
    "tags": []
   },
   "outputs": [
    {
     "name": "stdout",
     "output_type": "stream",
     "text": [
      "240\n"
     ]
    }
   ],
   "source": [
    "project_one = cost_of_project(\"Charlie+Denver\", True)\n",
    "print(project_one)"
   ]
  },
  {
   "cell_type": "markdown",
   "id": "9e068842",
   "metadata": {
    "papermill": {
     "duration": 0.007145,
     "end_time": "2023-06-06T12:00:17.138678",
     "exception": false,
     "start_time": "2023-06-06T12:00:17.131533",
     "status": "completed"
    },
    "tags": []
   },
   "source": [
    "Use the next code cell to calculate the cost of engraving `08/10/2000` on a gold plated ring."
   ]
  },
  {
   "cell_type": "code",
   "execution_count": 14,
   "id": "a47aaa1c",
   "metadata": {
    "execution": {
     "iopub.execute_input": "2023-06-06T12:00:17.155877Z",
     "iopub.status.busy": "2023-06-06T12:00:17.155523Z",
     "iopub.status.idle": "2023-06-06T12:00:17.160852Z",
     "shell.execute_reply": "2023-06-06T12:00:17.159590Z"
    },
    "papermill": {
     "duration": 0.017254,
     "end_time": "2023-06-06T12:00:17.163598",
     "exception": false,
     "start_time": "2023-06-06T12:00:17.146344",
     "status": "completed"
    },
    "tags": []
   },
   "outputs": [
    {
     "name": "stdout",
     "output_type": "stream",
     "text": [
      "120\n"
     ]
    }
   ],
   "source": [
    "project_two = cost_of_project(\"08/10/2000\", False)\n",
    "print(project_two)"
   ]
  },
  {
   "cell_type": "markdown",
   "id": "bc69c4b9",
   "metadata": {
    "papermill": {
     "duration": 0.007006,
     "end_time": "2023-06-06T12:00:17.178246",
     "exception": false,
     "start_time": "2023-06-06T12:00:17.171240",
     "status": "completed"
    },
    "tags": []
   },
   "source": [
    "# Keep going\n",
    "\n",
    "Continue to the next lesson to **[learn about conditions and conditional statements](https://www.kaggle.com/alexisbcook/conditions-and-conditional-statements)**."
   ]
  },
  {
   "cell_type": "markdown",
   "id": "5046fece",
   "metadata": {
    "papermill": {
     "duration": 0.006686,
     "end_time": "2023-06-06T12:00:17.192158",
     "exception": false,
     "start_time": "2023-06-06T12:00:17.185472",
     "status": "completed"
    },
    "tags": []
   },
   "source": [
    "---\n",
    "\n",
    "\n",
    "\n",
    "\n",
    "*Have questions or comments? Visit the [course discussion forum](https://www.kaggle.com/learn/intro-to-programming/discussion) to chat with other learners.*"
   ]
  }
 ],
 "metadata": {
  "kernelspec": {
   "display_name": "Python 3",
   "language": "python",
   "name": "python3"
  },
  "language_info": {
   "codemirror_mode": {
    "name": "ipython",
    "version": 3
   },
   "file_extension": ".py",
   "mimetype": "text/x-python",
   "name": "python",
   "nbconvert_exporter": "python",
   "pygments_lexer": "ipython3",
   "version": "3.10.10"
  },
  "papermill": {
   "default_parameters": {},
   "duration": 11.015655,
   "end_time": "2023-06-06T12:00:18.020759",
   "environment_variables": {},
   "exception": null,
   "input_path": "__notebook__.ipynb",
   "output_path": "__notebook__.ipynb",
   "parameters": {},
   "start_time": "2023-06-06T12:00:07.005104",
   "version": "2.4.0"
  }
 },
 "nbformat": 4,
 "nbformat_minor": 5
}
